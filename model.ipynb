{
 "cells": [
  {
   "cell_type": "code",
   "execution_count": 95,
   "metadata": {},
   "outputs": [],
   "source": [
    "import numpy as np\n",
    "import matplotlib.pyplot as plt\n",
    "from sympy import integrate\n",
    "from sympy.plotting import plot as symplot\n",
    "from numpy import random\n"
   ]
  },
  {
   "cell_type": "code",
   "execution_count": 91,
   "metadata": {},
   "outputs": [],
   "source": [
    "upper_t = 10\n",
    "BUMP = 3\n",
    "relative_depression = 10\n",
    "t = Symbol(\"t\")"
   ]
  },
  {
   "cell_type": "markdown",
   "metadata": {},
   "source": [
    "Define each payoff element as the integral of a function. \n",
    "\n",
    "| Payoff      | Cortex want | Cortex abstain\n",
    "| ----------- | ----------- | -----------\n",
    "| Neocortex Do      | A       |   B\n",
    "| Neocortex Abstain   | C        |   D"
   ]
  },
  {
   "cell_type": "code",
   "execution_count": 132,
   "metadata": {},
   "outputs": [
    {
     "name": "stderr",
     "output_type": "stream",
     "text": [
      "/var/folders/89/z6q1j9bs0bx83tmg_4d6slh80000gn/T/ipykernel_66180/436496291.py:7: DeprecationWarning: scipy.linspace is deprecated and will be removed in SciPy 2.0.0, use numpy.linspace instead\n",
      "  t_vals = linspace(0, upper_t, 100)\n"
     ]
    },
    {
     "data": {
      "text/plain": [
       "[<matplotlib.lines.Line2D at 0x7f91a45422b0>]"
      ]
     },
     "execution_count": 132,
     "metadata": {},
     "output_type": "execute_result"
    },
    {
     "data": {
      "image/png": "[encoded data removed]",
      "text/plain": [
       "<Figure size 432x288 with 1 Axes>"
      ]
     },
     "metadata": {
      "needs_background": "light"
     },
     "output_type": "display_data"
    }
   ],
   "source": [
    "# A functionality\n",
    "\n",
    "# todo:make depression bump lower and manage peak vs depression and readjustment time..\n",
    " \n",
    "a = -t*(sin(t-BUMP))*(1/exp(t-BUMP)) \n",
    "lam_a = lambdify(t, a, modules=['numpy'])\n",
    "t_vals = linspace(0, upper_t, 100)\n",
    "y_vals = lam_a(t_vals)\n",
    "\n",
    "\n",
    "A = integrate(a, (t, 0, t))\n",
    "lam_A = lambdify(t, A, modules=['numpy'])\n",
    "A_vals = lam_A(t_vals)\n",
    "\n",
    "plt.ylim([-15, 15])\n",
    "\n",
    "plt.plot(t_vals, y_vals)\n",
    "plt.plot(t_vals, A_vals)"
   ]
  },
  {
   "cell_type": "code",
   "execution_count": 133,
   "metadata": {},
   "outputs": [
    {
     "data": {
      "text/plain": [
       "[<matplotlib.lines.Line2D at 0x7f91a465b430>]"
      ]
     },
     "execution_count": 133,
     "metadata": {},
     "output_type": "execute_result"
    },
    {
     "data": {
      "image/png": "[encoded data removed]",
      "text/plain": [
       "<Figure size 432x288 with 1 Axes>"
      ]
     },
     "metadata": {
      "needs_background": "light"
     },
     "output_type": "display_data"
    }
   ],
   "source": [
    "# B functionality\n",
    "b = -t*(sin(t-BUMP))*(1/exp(t-BUMP)) # Change this function to have a smaller spike and shallower depression. \n",
    "lam_b = lambdify(t, b, modules=['numpy'])\n",
    "y_vals = lam_b(t_vals)\n",
    "\n",
    "\n",
    "B = integrate(b, (t, 0, t))\n",
    "lam_B = lambdify(t, B, modules=['numpy'])\n",
    "B_vals = lam_B(t_vals)\n",
    "\n",
    "plt.ylim([-15, 15])\n",
    "\n",
    "plt.plot(t_vals, y_vals)\n",
    "plt.plot(t_vals, B_vals)"
   ]
  },
  {
   "cell_type": "code",
   "execution_count": 134,
   "metadata": {},
   "outputs": [
    {
     "data": {
      "text/plain": [
       "[<matplotlib.lines.Line2D at 0x7f91a47e5880>]"
      ]
     },
     "execution_count": 134,
     "metadata": {},
     "output_type": "execute_result"
    },
    {
     "data": {
      "image/png": "[encoded data removed]",
      "text/plain": [
       "<Figure size 432x288 with 1 Axes>"
      ]
     },
     "metadata": {
      "needs_background": "light"
     },
     "output_type": "display_data"
    }
   ],
   "source": [
    "# B functionality\n",
    "# abstaining has a slight dip and then a movement back to homeostasis this dip is a function of the past choice ect....\n",
    "c = t*(sin(t-BUMP))*(1/exp(t-BUMP))/relative_depression # Change this function to have a smaller spike and shallower depression. \n",
    "lam_c = lambdify(t, c, modules=['numpy'])\n",
    "y_vals = lam_c(t_vals)\n",
    "\n",
    "\n",
    "C = integrate(c, (t, 0, t))\n",
    "lam_C = lambdify(t, C, modules=['numpy'])\n",
    "C_vals = lam_C(t_vals)\n",
    "plt.ylim([-15, 15])\n",
    "\n",
    "\n",
    "plt.plot(t_vals, y_vals)\n",
    "plt.plot(t_vals, C_vals)\n"
   ]
  },
  {
   "cell_type": "code",
   "execution_count": 135,
   "metadata": {},
   "outputs": [
    {
     "name": "stdout",
     "output_type": "stream",
     "text": [
      "[ 0.26 -0.31  0.2  -0.05 -0.5  -0.22  0.    0.14  0.39  0.35  0.04  0.27\n",
      "  0.43  0.39  0.49 -0.5  -0.01  0.24 -0.11 -0.44  0.13  0.05  0.44  0.32\n",
      " -0.05 -0.3   0.28  0.36  0.32  0.42  0.13  0.21 -0.46  0.34  0.25  0.12\n",
      "  0.01  0.32 -0.29  0.39 -0.36  0.22 -0.03 -0.01 -0.19  0.28 -0.23  0.46\n",
      "  0.17  0.27  0.16  0.13  0.27 -0.26 -0.36  0.31  0.41  0.03  0.44 -0.25\n",
      " -0.23 -0.16  0.33 -0.22 -0.43  0.31 -0.32 -0.05 -0.41  0.11  0.1   0.04\n",
      " -0.26  0.17 -0.01 -0.45  0.44 -0.22  0.1   0.27 -0.33 -0.15  0.14 -0.1\n",
      " -0.29  0.28  0.05  0.4   0.45  0.09 -0.27  0.   -0.15 -0.34  0.39 -0.03\n",
      "  0.02 -0.06 -0.09  0.34]\n"
     ]
    },
    {
     "data": {
      "text/plain": [
       "(-15.0, 15.0)"
      ]
     },
     "execution_count": 135,
     "metadata": {},
     "output_type": "execute_result"
    },
    {
     "data": {
      "image/png": "[encoded data removed]",
      "text/plain": [
       "<Figure size 432x288 with 1 Axes>"
      ]
     },
     "metadata": {
      "needs_background": "light"
     },
     "output_type": "display_data"
    }
   ],
   "source": [
    "# D functionality. This is the healthly baseline with normal fluctuations that are chaotic and random simulating external events...\n",
    "BASELINE_variation = 100\n",
    "d=(random.randint(BASELINE_variation, size=len(t_vals))-50)/BASELINE_variation\n",
    "print(d)\n",
    "plt.plot(t_vals,d)\n",
    "plt.ylim([-15, 15])\n",
    "\n"
   ]
  },
  {
   "cell_type": "code",
   "execution_count": null,
   "metadata": {},
   "outputs": [],
   "source": [
    "# analyse what is ESS for different t max values...\n",
    "# need to multiple each state in the future by a rediuced amount as this and this must be weighed up with the reduction in dopamine aka the crash... \n",
    "# \n",
    "\n",
    "# need a way to see how the crashand peak effects the ess...\n",
    "\n",
    "# Then play the repeting game and see how cycles can be established and / or broken...\n",
    "\n",
    "\n"
   ]
  }
 ],
 "metadata": {
  "interpreter": {
   "hash": "31f2aee4e71d21fbe5cf8b01ff0e069b9275f58929596ceb00d14d90e3e16cd6"
  },
  "kernelspec": {
   "display_name": "Python 3.8.10 64-bit",
   "language": "python",
   "name": "python3"
  },
  "language_info": {
   "codemirror_mode": {
    "name": "ipython",
    "version": 3
   },
   "file_extension": ".py",
   "mimetype": "text/x-python",
   "name": "python",
   "nbconvert_exporter": "python",
   "pygments_lexer": "ipython3",
   "version": "3.9.1"
  },
  "orig_nbformat": 4
 },
 "nbformat": 4,
 "nbformat_minor": 2
}
